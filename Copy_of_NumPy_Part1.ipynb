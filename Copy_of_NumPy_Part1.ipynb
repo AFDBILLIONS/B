{
  "nbformat": 4,
  "nbformat_minor": 0,
  "metadata": {
    "colab": {
      "name": "Copy of NumPy_Part1.ipynb",
      "provenance": [],
      "collapsed_sections": [],
      "include_colab_link": true
    },
    "kernelspec": {
      "name": "python3",
      "display_name": "Python 3"
    },
    "language_info": {
      "name": "python"
    }
  },
  "cells": [
    {
      "cell_type": "markdown",
      "metadata": {
        "id": "view-in-github",
        "colab_type": "text"
      },
      "source": [
        "<a href=\"https://colab.research.google.com/github/AFDBILLIONS/Python-data-analysis-basic/blob/master/Copy_of_NumPy_Part1.ipynb\" target=\"_parent\"><img src=\"https://colab.research.google.com/assets/colab-badge.svg\" alt=\"Open In Colab\"/></a>"
      ]
    },
    {
      "cell_type": "markdown",
      "metadata": {
        "id": "Ib0S0c0-er1s"
      },
      "source": [
        "##NumPy"
      ]
    },
    {
      "cell_type": "markdown",
      "metadata": {
        "id": "0cDz5Iz2enMc"
      },
      "source": [
        "Numpy is the core library for scientific computing in Python. It provides a high-performance multidimensional array object, and tools for working with these arrays. If you are already familiar with MATLAB, you might find this tutorial useful to get started with Numpy."
      ]
    },
    {
      "cell_type": "code",
      "metadata": {
        "id": "v16Z5AihdwHO",
        "colab": {
          "base_uri": "https://localhost:8080/"
        },
        "outputId": "1457fb99-9d0e-45b0-dc4c-cab6e2f4bdca"
      },
      "source": [
        "#Install NumPy\n",
        "!pip install numpy"
      ],
      "execution_count": null,
      "outputs": [
        {
          "output_type": "stream",
          "text": [
            "Requirement already satisfied: numpy in /usr/local/lib/python3.7/dist-packages (1.19.5)\n"
          ],
          "name": "stdout"
        }
      ]
    },
    {
      "cell_type": "markdown",
      "metadata": {
        "id": "e08ooIRreybX"
      },
      "source": [
        "To use Numpy, we first need to import the numpy package:"
      ]
    },
    {
      "cell_type": "code",
      "metadata": {
        "id": "W7T_CYnNdUfo"
      },
      "source": [
        "#Import NumPy\n",
        "import numpy as np"
      ],
      "execution_count": null,
      "outputs": []
    },
    {
      "cell_type": "markdown",
      "metadata": {
        "id": "c5BPxa6pfrYY"
      },
      "source": [
        "###Basics"
      ]
    },
    {
      "cell_type": "code",
      "metadata": {
        "id": "kEO7D5TIe3Fq",
        "colab": {
          "base_uri": "https://localhost:8080/"
        },
        "outputId": "20fcda07-51ad-494a-87e0-d938716177fb"
      },
      "source": [
        "#Create NumPy 1D array\n",
        "a = np.array([1,2,3], dtype='int32')\n",
        "print(a)\n"
      ],
      "execution_count": null,
      "outputs": [
        {
          "output_type": "stream",
          "text": [
            "[1 2 3]\n"
          ],
          "name": "stdout"
        }
      ]
    },
    {
      "cell_type": "code",
      "metadata": {
        "id": "v60M4n8ifwxa",
        "colab": {
          "base_uri": "https://localhost:8080/"
        },
        "outputId": "2c2f08c2-200b-452e-93bb-e6df0bdd09a3"
      },
      "source": [
        "#Create NumPy 2D array\n",
        "b = np.array([\n",
        "              [9.0, 8.0, 7.0],\n",
        "              [6.0, 5.0, 4.0]\n",
        "]   \n",
        ")\n",
        "print(b)"
      ],
      "execution_count": null,
      "outputs": [
        {
          "output_type": "stream",
          "text": [
            "[[9. 8. 7.]\n",
            " [6. 5. 4.]]\n"
          ],
          "name": "stdout"
        }
      ]
    },
    {
      "cell_type": "code",
      "metadata": {
        "id": "bz4On7F7f9Hw",
        "colab": {
          "base_uri": "https://localhost:8080/"
        },
        "outputId": "3db9b577-26af-4fca-8ed1-9dc907f2696d"
      },
      "source": [
        "# Get Dimension\n",
        "print(a.ndim)\n",
        "print(b.ndim)\n"
      ],
      "execution_count": null,
      "outputs": [
        {
          "output_type": "stream",
          "text": [
            "1\n",
            "2\n"
          ],
          "name": "stdout"
        }
      ]
    },
    {
      "cell_type": "code",
      "metadata": {
        "id": "2tQsKQj3gN0p",
        "colab": {
          "base_uri": "https://localhost:8080/"
        },
        "outputId": "b3115b95-1f93-4f65-b012-0d19a3f19a44"
      },
      "source": [
        "# Get Shape (r,c)\n",
        "print(a.shape)\n",
        "print(b.shape)\n",
        "\n"
      ],
      "execution_count": null,
      "outputs": [
        {
          "output_type": "stream",
          "text": [
            "(3,)\n",
            "(2, 3)\n"
          ],
          "name": "stdout"
        }
      ]
    },
    {
      "cell_type": "code",
      "metadata": {
        "id": "ME4v1_TrgZ5Q",
        "colab": {
          "base_uri": "https://localhost:8080/"
        },
        "outputId": "ffb38fec-6113-42f5-c0ca-2f50e0469f88"
      },
      "source": [
        "# Get Type\n",
        "print(a.dtype)\n",
        "print(b.dtype)"
      ],
      "execution_count": null,
      "outputs": [
        {
          "output_type": "stream",
          "text": [
            "int32\n",
            "float64\n"
          ],
          "name": "stdout"
        }
      ]
    },
    {
      "cell_type": "code",
      "metadata": {
        "id": "DGMrUEmPggkr",
        "colab": {
          "base_uri": "https://localhost:8080/"
        },
        "outputId": "0bdce735-1c5b-4c29-9ae4-04efe6a4dd2a"
      },
      "source": [
        "# Get number of elements\n",
        "print(a.size)\n",
        "print(b.size)\n",
        "\n"
      ],
      "execution_count": null,
      "outputs": [
        {
          "output_type": "stream",
          "text": [
            "3\n",
            "6\n"
          ],
          "name": "stdout"
        }
      ]
    },
    {
      "cell_type": "markdown",
      "metadata": {
        "id": "q7f_a0ahg_R7"
      },
      "source": [
        "### Accessing/Changing specific elements, rows, columns, etc"
      ]
    },
    {
      "cell_type": "code",
      "metadata": {
        "id": "IckGx7Lpg-5J",
        "colab": {
          "base_uri": "https://localhost:8080/"
        },
        "outputId": "53752d9c-ac9f-4823-f087-39273ce3ef53"
      },
      "source": [
        "a = np.array([\n",
        "              [1,2,3,4,5,6,7],\n",
        "              [8,9,10,11,12,13,14]])\n",
        "print(a)"
      ],
      "execution_count": null,
      "outputs": [
        {
          "output_type": "stream",
          "text": [
            "[[ 1  2  3  4  5  6  7]\n",
            " [ 8  9 10 11 12 13 14]]\n"
          ],
          "name": "stdout"
        }
      ]
    },
    {
      "cell_type": "code",
      "metadata": {
        "id": "0RYj2P4_hGU3",
        "colab": {
          "base_uri": "https://localhost:8080/"
        },
        "outputId": "320086d2-bc82-4c15-d7c2-6d9e3394d0eb"
      },
      "source": [
        "# Get a specific element [r, c]\n",
        "print(a[1,5])\n",
        "\n"
      ],
      "execution_count": null,
      "outputs": [
        {
          "output_type": "stream",
          "text": [
            "13\n"
          ],
          "name": "stdout"
        }
      ]
    },
    {
      "cell_type": "code",
      "metadata": {
        "id": "C2Z84JGuhOXb",
        "colab": {
          "base_uri": "https://localhost:8080/"
        },
        "outputId": "7eb989ab-da2a-4cf5-aa7b-91066d317ba7"
      },
      "source": [
        "# Get a specific row \n",
        "print(a[0,:])\n",
        "\n"
      ],
      "execution_count": null,
      "outputs": [
        {
          "output_type": "stream",
          "text": [
            "[1 2 3 4 5 6 7]\n"
          ],
          "name": "stdout"
        }
      ]
    },
    {
      "cell_type": "code",
      "metadata": {
        "id": "Q6ISvC4ehSlB",
        "colab": {
          "base_uri": "https://localhost:8080/"
        },
        "outputId": "5eb28003-bcf6-48e7-960f-3d10fd14f2d3"
      },
      "source": [
        "# Get a specific column\n",
        "print(a[:, 2])\n"
      ],
      "execution_count": null,
      "outputs": [
        {
          "output_type": "stream",
          "text": [
            "[ 3 10]\n"
          ],
          "name": "stdout"
        }
      ]
    },
    {
      "cell_type": "code",
      "metadata": {
        "id": "xorLN7ANhitH",
        "colab": {
          "base_uri": "https://localhost:8080/"
        },
        "outputId": "8e36505a-4934-41fc-94c4-4f4744ca5f9c"
      },
      "source": [
        "# Getting a little more fancy [startindex:endindex:stepsize]\n",
        "print(a[0,1:-1:2])"
      ],
      "execution_count": null,
      "outputs": [
        {
          "output_type": "stream",
          "text": [
            "[2 4 6]\n"
          ],
          "name": "stdout"
        }
      ]
    },
    {
      "cell_type": "code",
      "metadata": {
        "id": "IUWoKSwFhnLi",
        "colab": {
          "base_uri": "https://localhost:8080/"
        },
        "outputId": "65273174-8361-41ec-9521-058fc674ffb0"
      },
      "source": [
        "##Some More\n",
        "a[1,5] = 20\n",
        "print(a)"
      ],
      "execution_count": null,
      "outputs": [
        {
          "output_type": "stream",
          "text": [
            "[[ 1  2  3  4  5  6  7]\n",
            " [ 8  9 10 11 12 20 14]]\n"
          ],
          "name": "stdout"
        }
      ]
    },
    {
      "cell_type": "code",
      "metadata": {
        "colab": {
          "base_uri": "https://localhost:8080/"
        },
        "id": "yoYDXZ3XqPdW",
        "outputId": "50e04d85-e359-4221-e40a-facf7c5bc9e1"
      },
      "source": [
        "a[:,2] = [1, 2]\n",
        "print(a)"
      ],
      "execution_count": null,
      "outputs": [
        {
          "output_type": "stream",
          "text": [
            "[[ 1  2  1  4  5  6  7]\n",
            " [ 8  9  2 11 12 20 14]]\n"
          ],
          "name": "stdout"
        }
      ]
    },
    {
      "cell_type": "markdown",
      "metadata": {
        "id": "gDG9YWoQnmS2"
      },
      "source": [
        "###QUIZ!!!"
      ]
    },
    {
      "cell_type": "markdown",
      "metadata": {
        "id": "fshGfm_ziC4w"
      },
      "source": [
        "#### 3D Example"
      ]
    },
    {
      "cell_type": "code",
      "metadata": {
        "id": "JUzzhv1Dh8DR",
        "colab": {
          "base_uri": "https://localhost:8080/"
        },
        "outputId": "c25956bc-b877-4579-c3c6-e8a6dd5ecdde"
      },
      "source": [
        "b = np.array([\n",
        "              [[1,2],[3,4]],\n",
        "              [[5,6],[7,8]]\n",
        "              ])\n",
        "print(b)"
      ],
      "execution_count": null,
      "outputs": [
        {
          "output_type": "stream",
          "text": [
            "[[[1 2]\n",
            "  [3 4]]\n",
            "\n",
            " [[5 6]\n",
            "  [7 8]]]\n"
          ],
          "name": "stdout"
        }
      ]
    },
    {
      "cell_type": "code",
      "metadata": {
        "id": "XgFZz5YuiJxv",
        "colab": {
          "base_uri": "https://localhost:8080/"
        },
        "outputId": "6c627a03-7a2e-416f-bcf5-d53d87f59a5b"
      },
      "source": [
        "# Get specific element (work outside in)\n",
        "print(b[0, 1, 1])\n"
      ],
      "execution_count": null,
      "outputs": [
        {
          "output_type": "stream",
          "text": [
            "4\n"
          ],
          "name": "stdout"
        }
      ]
    },
    {
      "cell_type": "markdown",
      "metadata": {
        "id": "Q1ZbuKDVinc1"
      },
      "source": [
        "Numpy also provides many functions to create arrays:"
      ]
    },
    {
      "cell_type": "code",
      "metadata": {
        "id": "o_N2aSWniqbA",
        "colab": {
          "base_uri": "https://localhost:8080/"
        },
        "outputId": "27b2e0aa-1209-4805-cade-ad8e38ce0ae0"
      },
      "source": [
        "# Create an array of all zeros\n",
        "a = np.zeros((2, 3))\n",
        "print(a)\n"
      ],
      "execution_count": null,
      "outputs": [
        {
          "output_type": "stream",
          "text": [
            "[[0. 0. 0.]\n",
            " [0. 0. 0.]]\n"
          ],
          "name": "stdout"
        }
      ]
    },
    {
      "cell_type": "code",
      "metadata": {
        "id": "qnxT56AUiyRe",
        "colab": {
          "base_uri": "https://localhost:8080/"
        },
        "outputId": "cc7f57aa-5105-4fb4-b890-54c5ef211775"
      },
      "source": [
        "# Create an array of all ones\n",
        "b = np.ones((4,3))\n",
        "print(b)\n"
      ],
      "execution_count": null,
      "outputs": [
        {
          "output_type": "stream",
          "text": [
            "[[1. 1. 1.]\n",
            " [1. 1. 1.]\n",
            " [1. 1. 1.]\n",
            " [1. 1. 1.]]\n"
          ],
          "name": "stdout"
        }
      ]
    },
    {
      "cell_type": "code",
      "metadata": {
        "id": "zLIhtkvmi7wg",
        "colab": {
          "base_uri": "https://localhost:8080/"
        },
        "outputId": "ba70d0a4-1be1-4c0b-9c58-c81025362199"
      },
      "source": [
        "# Create a constant array\n",
        "c = np.full((3,2), 7)\n",
        "print(c)\n"
      ],
      "execution_count": null,
      "outputs": [
        {
          "output_type": "stream",
          "text": [
            "[[7 7]\n",
            " [7 7]\n",
            " [7 7]]\n"
          ],
          "name": "stdout"
        }
      ]
    },
    {
      "cell_type": "code",
      "metadata": {
        "id": "3u__xtv2jCUb",
        "colab": {
          "base_uri": "https://localhost:8080/"
        },
        "outputId": "cb0c4dd8-a422-4669-e6eb-f863166cc59f"
      },
      "source": [
        "# Create a 4x4 identity matrix\n",
        "d = np.eye(4)\n",
        "print(d)\n"
      ],
      "execution_count": null,
      "outputs": [
        {
          "output_type": "stream",
          "text": [
            "[[1. 0. 0. 0.]\n",
            " [0. 1. 0. 0.]\n",
            " [0. 0. 1. 0.]\n",
            " [0. 0. 0. 1.]]\n"
          ],
          "name": "stdout"
        }
      ]
    },
    {
      "cell_type": "code",
      "metadata": {
        "id": "u2XbN4tUjJPk",
        "colab": {
          "base_uri": "https://localhost:8080/"
        },
        "outputId": "42fa99cf-5802-4f53-b79b-4c54200f252c"
      },
      "source": [
        "# Create an array filled with random values\n",
        "e = np.random.random((2,2))\n",
        "print(e)\n",
        "\n"
      ],
      "execution_count": null,
      "outputs": [
        {
          "output_type": "stream",
          "text": [
            "[[0.36908372 0.17535938]\n",
            " [0.05679538 0.37964783]]\n"
          ],
          "name": "stdout"
        }
      ]
    },
    {
      "cell_type": "markdown",
      "metadata": {
        "id": "jzLu7UiykYXc"
      },
      "source": [
        "\n",
        "####Be careful when copying arrays!!!"
      ]
    },
    {
      "cell_type": "code",
      "metadata": {
        "id": "wyX6YlW_kHuI",
        "colab": {
          "base_uri": "https://localhost:8080/"
        },
        "outputId": "90db7dc5-c108-408e-c117-297eccd57097"
      },
      "source": [
        "#Your Code Here\n",
        "a = np.array([1,2,3])\n",
        "b = a.copy()\n",
        "b[0] = 100\n",
        "print(a)\n",
        "\n"
      ],
      "execution_count": null,
      "outputs": [
        {
          "output_type": "stream",
          "text": [
            "[1 2 3]\n"
          ],
          "name": "stdout"
        }
      ]
    },
    {
      "cell_type": "markdown",
      "metadata": {
        "id": "ZTAM7Ub3ntKD"
      },
      "source": [
        "###QUIZ!!!"
      ]
    },
    {
      "cell_type": "markdown",
      "metadata": {
        "id": "-0TinYJJlW4D"
      },
      "source": [
        "### Array Math"
      ]
    },
    {
      "cell_type": "code",
      "metadata": {
        "id": "KUBPj6Swl5Sw",
        "colab": {
          "base_uri": "https://localhost:8080/"
        },
        "outputId": "e23d535f-57e3-4e66-f602-60028ebdfae2"
      },
      "source": [
        "a = np.array([1,2,3,4])\n",
        "print(a)"
      ],
      "execution_count": null,
      "outputs": [
        {
          "output_type": "stream",
          "text": [
            "[1 2 3 4]\n"
          ],
          "name": "stdout"
        }
      ]
    },
    {
      "cell_type": "code",
      "metadata": {
        "id": "EqL2BbCkl-Y6",
        "colab": {
          "base_uri": "https://localhost:8080/"
        },
        "outputId": "33e914d5-cf8a-4365-e1a8-533a980ef931"
      },
      "source": [
        "#Addition\n",
        "print(a+1)\n"
      ],
      "execution_count": null,
      "outputs": [
        {
          "output_type": "stream",
          "text": [
            "[2 3 4 5]\n"
          ],
          "name": "stdout"
        }
      ]
    },
    {
      "cell_type": "code",
      "metadata": {
        "id": "YZ5EfIbEmVx_",
        "colab": {
          "base_uri": "https://localhost:8080/"
        },
        "outputId": "8d9c747c-59be-4862-80a3-943e3dd5fc51"
      },
      "source": [
        "#Subtraction\n",
        "print(a-2)\n"
      ],
      "execution_count": null,
      "outputs": [
        {
          "output_type": "stream",
          "text": [
            "[-1  0  1  2]\n"
          ],
          "name": "stdout"
        }
      ]
    },
    {
      "cell_type": "code",
      "metadata": {
        "id": "j-6ln84sma3N",
        "colab": {
          "base_uri": "https://localhost:8080/"
        },
        "outputId": "25f863e8-9671-4637-dc22-c92f77df7dbb"
      },
      "source": [
        "#Multiplication\n",
        "print(a*2)\n",
        "\n"
      ],
      "execution_count": null,
      "outputs": [
        {
          "output_type": "stream",
          "text": [
            "[2 4 6 8]\n"
          ],
          "name": "stdout"
        }
      ]
    },
    {
      "cell_type": "code",
      "metadata": {
        "id": "t7oqkP28mdzf",
        "colab": {
          "base_uri": "https://localhost:8080/"
        },
        "outputId": "af44ef6d-5ec7-4265-dbea-be7d60911678"
      },
      "source": [
        "#Division\n",
        "print(a/2)"
      ],
      "execution_count": null,
      "outputs": [
        {
          "output_type": "stream",
          "text": [
            "[0.5 1.  1.5 2. ]\n"
          ],
          "name": "stdout"
        }
      ]
    },
    {
      "cell_type": "code",
      "metadata": {
        "id": "uqTsXxPpmjI3",
        "colab": {
          "base_uri": "https://localhost:8080/"
        },
        "outputId": "f6631b2b-009c-40b2-d0a8-dadad8cb2c8a"
      },
      "source": [
        "#Exponent\n",
        "\n",
        "print(a**2)"
      ],
      "execution_count": null,
      "outputs": [
        {
          "output_type": "stream",
          "text": [
            "[ 1  4  9 16]\n"
          ],
          "name": "stdout"
        }
      ]
    },
    {
      "cell_type": "code",
      "metadata": {
        "id": "A3gZPkBcmpWI",
        "colab": {
          "base_uri": "https://localhost:8080/"
        },
        "outputId": "96c90b63-b53d-472f-9ede-fff5ca8d0fa9"
      },
      "source": [
        "# Take the sin\n",
        "print(np.sin(a))\n"
      ],
      "execution_count": null,
      "outputs": [
        {
          "output_type": "stream",
          "text": [
            "[ 0.84147098  0.90929743  0.14112001 -0.7568025 ]\n"
          ],
          "name": "stdout"
        }
      ]
    },
    {
      "cell_type": "markdown",
      "metadata": {
        "id": "sQG3AelJnAmX"
      },
      "source": [
        "####Basic mathematical functions operate elementwise on arrays, and are available both as operator overloads and as functions in the numpy module:"
      ]
    },
    {
      "cell_type": "code",
      "metadata": {
        "id": "YyB3zJ7DnCmT",
        "colab": {
          "base_uri": "https://localhost:8080/"
        },
        "outputId": "b3bbe64a-cfdf-44b5-9abb-2967f4760e37"
      },
      "source": [
        "#Create 2D array x and y\n",
        "x = np.array([\n",
        "              [1, 2],\n",
        "              [3, 4]\n",
        "])\n",
        "y = np.array([\n",
        "            [5,6],\n",
        "            [7,8]  \n",
        "])\n",
        "print(x)\n",
        "print(y)\n",
        "\n",
        "\n"
      ],
      "execution_count": null,
      "outputs": [
        {
          "output_type": "stream",
          "text": [
            "[[1 2]\n",
            " [3 4]]\n",
            "[[5 6]\n",
            " [7 8]]\n"
          ],
          "name": "stdout"
        }
      ]
    },
    {
      "cell_type": "code",
      "metadata": {
        "id": "tTLDzwSA9Hjd",
        "colab": {
          "base_uri": "https://localhost:8080/"
        },
        "outputId": "0263c983-8551-4585-cbe7-03bcc54ed202"
      },
      "source": [
        "# Elementwise sum; both produce the array\n",
        "print(x+y)\n",
        "print(np.add(x,y))\n"
      ],
      "execution_count": null,
      "outputs": [
        {
          "output_type": "stream",
          "text": [
            "[[ 6  8]\n",
            " [10 12]]\n",
            "[[ 6  8]\n",
            " [10 12]]\n"
          ],
          "name": "stdout"
        }
      ]
    },
    {
      "cell_type": "code",
      "metadata": {
        "id": "CuYk20nXnF-I",
        "colab": {
          "base_uri": "https://localhost:8080/"
        },
        "outputId": "4739f463-d817-445f-9832-c8eea5344c01"
      },
      "source": [
        "# Elementwise difference; both produce the array\n",
        "\n",
        "print(x-y)\n",
        "print(np.subtract(x, y))"
      ],
      "execution_count": null,
      "outputs": [
        {
          "output_type": "stream",
          "text": [
            "[[-4 -4]\n",
            " [-4 -4]]\n",
            "[[-4 -4]\n",
            " [-4 -4]]\n"
          ],
          "name": "stdout"
        }
      ]
    },
    {
      "cell_type": "code",
      "metadata": {
        "id": "bJxL-Xv1nJZ8",
        "colab": {
          "base_uri": "https://localhost:8080/"
        },
        "outputId": "2291f2b0-ffae-4177-f421-56c8ff9b5e84"
      },
      "source": [
        "# Elementwise product; both produce the array\n",
        "print(x*y)\n",
        "print(np.multiply(x,y))\n"
      ],
      "execution_count": null,
      "outputs": [
        {
          "output_type": "stream",
          "text": [
            "[[ 5 12]\n",
            " [21 32]]\n",
            "[[ 5 12]\n",
            " [21 32]]\n"
          ],
          "name": "stdout"
        }
      ]
    },
    {
      "cell_type": "code",
      "metadata": {
        "id": "VimkQ8SLnMWK",
        "colab": {
          "base_uri": "https://localhost:8080/"
        },
        "outputId": "ee9b7035-48b4-49bf-b1ae-5fe3c4ad5e89"
      },
      "source": [
        "# Elementwise division; both produce the array\n",
        "print(x/y)\n",
        "print(np.divide(x,y))\n"
      ],
      "execution_count": null,
      "outputs": [
        {
          "output_type": "stream",
          "text": [
            "[[0.2        0.33333333]\n",
            " [0.42857143 0.5       ]]\n",
            "[[0.2        0.33333333]\n",
            " [0.42857143 0.5       ]]\n"
          ],
          "name": "stdout"
        }
      ]
    },
    {
      "cell_type": "code",
      "metadata": {
        "id": "hQP-d3vVnSLA",
        "colab": {
          "base_uri": "https://localhost:8080/"
        },
        "outputId": "96948cce-3522-4bec-a8d5-46069f6c7f64"
      },
      "source": [
        "# Elementwise square root; produces the array\n",
        "print(np.sqrt(x))\n",
        "\n"
      ],
      "execution_count": null,
      "outputs": [
        {
          "output_type": "stream",
          "text": [
            "[[1.         1.41421356]\n",
            " [1.73205081 2.        ]]\n"
          ],
          "name": "stdout"
        }
      ]
    },
    {
      "cell_type": "markdown",
      "metadata": {
        "id": "Z8gwiGQ6nyE9"
      },
      "source": [
        "###QUIZ!!!"
      ]
    },
    {
      "cell_type": "markdown",
      "metadata": {
        "id": "SgbIZ2uvn1Gv"
      },
      "source": [
        "#Thank You!"
      ]
    }
  ]
}