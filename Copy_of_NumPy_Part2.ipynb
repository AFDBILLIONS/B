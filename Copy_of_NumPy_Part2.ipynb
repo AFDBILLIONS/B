{
  "nbformat": 4,
  "nbformat_minor": 0,
  "metadata": {
    "colab": {
      "name": "Copy of NumPy_Part2",
      "provenance": [],
      "collapsed_sections": [],
      "include_colab_link": true
    },
    "kernelspec": {
      "name": "python3",
      "display_name": "Python 3"
    },
    "language_info": {
      "name": "python"
    }
  },
  "cells": [
    {
      "cell_type": "markdown",
      "metadata": {
        "id": "view-in-github",
        "colab_type": "text"
      },
      "source": [
        "<a href=\"https://colab.research.google.com/github/AFDBILLIONS/Python-data-analysis-basic/blob/master/Copy_of_NumPy_Part2.ipynb\" target=\"_parent\"><img src=\"https://colab.research.google.com/assets/colab-badge.svg\" alt=\"Open In Colab\"/></a>"
      ]
    },
    {
      "cell_type": "code",
      "metadata": {
        "id": "LJMet_jJLlSX"
      },
      "source": [
        "import numpy as np"
      ],
      "execution_count": null,
      "outputs": []
    },
    {
      "cell_type": "markdown",
      "metadata": {
        "id": "8ibYXRyRJusB"
      },
      "source": [
        "Accessing/Changing specific elements, rows, columns, etc"
      ]
    },
    {
      "cell_type": "code",
      "metadata": {
        "id": "Tw9HZZ2JIKvn",
        "colab": {
          "base_uri": "https://localhost:8080/"
        },
        "outputId": "ac6fb4ce-7787-4c02-cfed-d6c895644799"
      },
      "source": [
        "a = np.array([\n",
        "              [1,2,3,4,5,6,7],\n",
        "              [8,9,10,11,12,13,14]])\n",
        "print(a)"
      ],
      "execution_count": null,
      "outputs": [
        {
          "output_type": "stream",
          "text": [
            "[[ 1  2  3  4  5  6  7]\n",
            " [ 8  9 10 11 12 13 14]]\n"
          ],
          "name": "stdout"
        }
      ]
    },
    {
      "cell_type": "code",
      "metadata": {
        "id": "0T_yvdpkJzSS",
        "colab": {
          "base_uri": "https://localhost:8080/"
        },
        "outputId": "6ca810a0-4a86-4e7a-8ff0-8b5d6a333f89"
      },
      "source": [
        "# Get a specific element [r, c]\n",
        "#Your Code Here\n",
        "print(a[1,5])"
      ],
      "execution_count": null,
      "outputs": [
        {
          "output_type": "stream",
          "text": [
            "13\n"
          ],
          "name": "stdout"
        }
      ]
    },
    {
      "cell_type": "code",
      "metadata": {
        "id": "5PlMla2_J1Ss",
        "colab": {
          "base_uri": "https://localhost:8080/"
        },
        "outputId": "482b68ae-29f6-4fb7-a404-d8e036482e26"
      },
      "source": [
        "# Get a specific row \n",
        "#Your Code Here\n",
        "print(a[0,:])\n"
      ],
      "execution_count": null,
      "outputs": [
        {
          "output_type": "stream",
          "text": [
            "[1 2 3 4 5 6 7]\n"
          ],
          "name": "stdout"
        }
      ]
    },
    {
      "cell_type": "code",
      "metadata": {
        "id": "JLRymfAOJ4BT",
        "colab": {
          "base_uri": "https://localhost:8080/"
        },
        "outputId": "32b80651-de31-48e4-c376-5988ff8c1404"
      },
      "source": [
        "# Get a specific column  ???????????\n",
        "#Your Code Here\n",
        "\n",
        "print(a[:,2])"
      ],
      "execution_count": null,
      "outputs": [
        {
          "output_type": "stream",
          "text": [
            "[ 3 10]\n"
          ],
          "name": "stdout"
        }
      ]
    },
    {
      "cell_type": "markdown",
      "metadata": {
        "id": "klld9QHvKCNq"
      },
      "source": [
        "##Array indexing\n",
        "Numpy offers several ways to index into arrays.\n",
        "\n",
        "Slicing: Similar to Python lists, numpy arrays can be sliced. Since arrays may be multidimensional, you must specify a slice for each dimension of the array:"
      ]
    },
    {
      "cell_type": "code",
      "metadata": {
        "id": "BMqsycZbKFst",
        "colab": {
          "base_uri": "https://localhost:8080/"
        },
        "outputId": "7b6353d3-af78-4ca4-d3f7-83d0bd9573d4"
      },
      "source": [
        "import numpy as np\n",
        "\n",
        "# Create the following rank 2 array with shape (3, 4)\n",
        "# [[ 1  2  3  4]\n",
        "#  [ 5  6  7  8]\n",
        "#  [ 9 10 11 12]]\n",
        "\n",
        "#Your Code Here\n",
        "a=np.array([\n",
        "      [1,2,3,4],\n",
        "      [5,6,7,8,],\n",
        "      [9,10,11,12]     \n",
        "])\n",
        "print(a)\n",
        "\n",
        "# Use slicing to pull out the subarray consisting of the first 2 rows\n",
        "# and columns 1 and 2; b is the following array of shape (2, 2):\n",
        "# [[2 3]\n",
        "#  [6 7]]\n",
        "#startIndex:endIndex+1\n",
        "#Your Code Here\n",
        "print(a[0:2,1:3])\n",
        "\n",
        "\n"
      ],
      "execution_count": null,
      "outputs": [
        {
          "output_type": "stream",
          "text": [
            "[[ 1  2  3  4]\n",
            " [ 5  6  7  8]\n",
            " [ 9 10 11 12]]\n",
            "[[2 3]\n",
            " [6 7]]\n"
          ],
          "name": "stdout"
        }
      ]
    },
    {
      "cell_type": "markdown",
      "metadata": {
        "id": "oWBEJ8Q2KX2k"
      },
      "source": [
        "##Integer array indexing: \n",
        "When you index into numpy arrays using slicing, the resulting array view will always be a subarray of the original array. In contrast, integer array indexing allows you to construct arbitrary arrays using the data from another array. Here is an example:"
      ]
    },
    {
      "cell_type": "code",
      "metadata": {
        "id": "JDVVc3LGKYrL",
        "colab": {
          "base_uri": "https://localhost:8080/"
        },
        "outputId": "a3af0f28-624d-43e8-fd16-f398cb74a287"
      },
      "source": [
        "a = np.array([[1,2], [3, 4], [5, 6]])\n",
        "# [[1 2]\n",
        "#  [3 4]\n",
        "#  [5 6]]\n",
        "\n",
        "# An example of integer array indexing.\n",
        "# The returned array will have shape (3,) \n",
        "\n",
        "#Your Code Here\n",
        "print(a[[1,2],[1,0]])\n",
        "\n",
        "\n",
        "# The above example of integer array indexing is equivalent to this:\n",
        "#Your Code Here\n",
        "print(a[1,1], a[2,0])"
      ],
      "execution_count": null,
      "outputs": [
        {
          "output_type": "stream",
          "text": [
            "[4 5]\n",
            "4 5\n"
          ],
          "name": "stdout"
        }
      ]
    },
    {
      "cell_type": "code",
      "metadata": {
        "id": "oIwIcekNKtmq"
      },
      "source": [
        "# When using integer array indexing, you can reuse the same\n",
        "# element from the source array:\n",
        "#Your Code Here\n",
        "\n",
        "\n",
        "\n",
        "# Equivalent to the previous integer array indexing example\n",
        "#Your Code Here\n"
      ],
      "execution_count": null,
      "outputs": []
    },
    {
      "cell_type": "markdown",
      "metadata": {
        "id": "h0c-in-7LxuV"
      },
      "source": [
        "One useful trick with integer array indexing is selecting or mutating one element from each row of a matrix:"
      ]
    },
    {
      "cell_type": "code",
      "metadata": {
        "id": "RoMhHcy-L06i",
        "colab": {
          "base_uri": "https://localhost:8080/"
        },
        "outputId": "26973759-64d1-4f1c-d6aa-42264da9e528"
      },
      "source": [
        "# Create a new array from which we will select elements\n",
        "a = np.array([[1,2,3], [4,5,6], [7,8,9], [10, 11, 12]])\n",
        "print(a)"
      ],
      "execution_count": null,
      "outputs": [
        {
          "output_type": "stream",
          "text": [
            "[[ 1  2  3]\n",
            " [ 4  5  6]\n",
            " [ 7  8  9]\n",
            " [10 11 12]]\n"
          ],
          "name": "stdout"
        }
      ]
    },
    {
      "cell_type": "markdown",
      "metadata": {
        "id": "zwzsKGaMMAHH"
      },
      "source": [
        "####Quick background on numpy.arange\n",
        "[NumPy Doc](https://numpy.org/doc/stable/reference/generated/numpy.arange.html)"
      ]
    },
    {
      "cell_type": "code",
      "metadata": {
        "id": "LX_zRA8RMfDe",
        "colab": {
          "base_uri": "https://localhost:8080/"
        },
        "outputId": "9218ba84-25ad-4d57-bca0-db2d59d619c7"
      },
      "source": [
        "#Return evenly spaced values within a given interval\n",
        "#np.arange(strat, end+1, step)\n",
        "#Your Code Here\n",
        "print(np.arange(3,10,2))\n",
        "print(np.arange(10))\n",
        "print(np.arange(3,7))"
      ],
      "execution_count": null,
      "outputs": [
        {
          "output_type": "stream",
          "text": [
            "[3 5 7 9]\n",
            "[0 1 2 3 4 5 6 7 8 9]\n",
            "[3 4 5 6]\n"
          ],
          "name": "stdout"
        }
      ]
    },
    {
      "cell_type": "code",
      "metadata": {
        "id": "_NhZ5TlYL3hS",
        "colab": {
          "base_uri": "https://localhost:8080/"
        },
        "outputId": "873ed8f4-7e39-4a8c-8a59-d63b3ea183b1"
      },
      "source": [
        "#a is:\n",
        "# [[ 1  2  3]\n",
        "#  [ 4  5  6]\n",
        "#  [ 7  8  9]\n",
        "#  [10 11 12]]\n",
        "# Create an array of indices\n",
        "b = [0, 2, 0, 1]\n",
        "\n",
        "# Select one element from each row of a using the indices in b\n",
        "#Your Code Here\n",
        "# Prints \"[ 1  6  7 11]\"\n",
        "print(a[[0,1,2,3],b])\n",
        "#a is:\n"
      ],
      "execution_count": null,
      "outputs": [
        {
          "output_type": "stream",
          "text": [
            "[11 16 17 21]\n"
          ],
          "name": "stdout"
        }
      ]
    },
    {
      "cell_type": "code",
      "metadata": {
        "id": "Wp2NhwBbL8uH",
        "colab": {
          "base_uri": "https://localhost:8080/"
        },
        "outputId": "e1a947b7-5bca-4fd6-886e-2b1255d2d00e"
      },
      "source": [
        "# Mutate one element from each row of a using the indices in b\n",
        "#Your Code Here\n",
        "a[np.arange(4),b] +=10\n",
        "print(a)"
      ],
      "execution_count": null,
      "outputs": [
        {
          "output_type": "stream",
          "text": [
            "[[11  2  3]\n",
            " [ 4  5 16]\n",
            " [17  8  9]\n",
            " [10 21 12]]\n"
          ],
          "name": "stdout"
        }
      ]
    },
    {
      "cell_type": "markdown",
      "metadata": {
        "id": "ERsMR0NvNCnY"
      },
      "source": [
        "#QUIZ!!!"
      ]
    },
    {
      "cell_type": "markdown",
      "metadata": {
        "id": "Xs4ZBS5dNLQP"
      },
      "source": [
        "Boolean array indexing: Boolean array indexing lets you pick out arbitrary elements of an array. Frequently this type of indexing is used to select the elements of an array that satisfy some condition. Here is an example:"
      ]
    },
    {
      "cell_type": "code",
      "metadata": {
        "id": "NVXB8LPyNFjI",
        "colab": {
          "base_uri": "https://localhost:8080/"
        },
        "outputId": "a448de41-bb8a-4fa4-daa0-995ab6c85fcc"
      },
      "source": [
        "import numpy as np\n",
        "\n",
        "a = np.array([[1,2], [3, 4], [5, 6]])\n",
        "print(a)\n",
        "\n",
        "#Your Code Here\n",
        "\n",
        "                    # Find the elements of a that are bigger than 2;\n",
        "                    # this returns a numpy array of Booleans of the same\n",
        "                    # shape as a, where each slot of bool_idx tells\n",
        "                    # whether that element of a is > 2.\n",
        "\n",
        "bool_idx=(a>2)\n",
        "\n",
        "#Your Code Here\n",
        "print(bool_idx)\n"
      ],
      "execution_count": null,
      "outputs": [
        {
          "output_type": "stream",
          "text": [
            "[[1 2]\n",
            " [3 4]\n",
            " [5 6]]\n",
            "[[False False]\n",
            " [ True  True]\n",
            " [ True  True]]\n"
          ],
          "name": "stdout"
        }
      ]
    },
    {
      "cell_type": "code",
      "metadata": {
        "id": "BkxlHnNaNmJr",
        "colab": {
          "base_uri": "https://localhost:8080/"
        },
        "outputId": "f2b9e2ab-691e-445a-bf6e-434874c71ea4"
      },
      "source": [
        "# We use boolean array indexing to construct a rank 1 array\n",
        "# consisting of the elements of a corresponding to the True values\n",
        "# of bool_idx\n",
        "#Your Code Here\n",
        "print(a[bool_idx])\n",
        "\n",
        "# We can do all of the above in a single concise statement:\n",
        "#Your Code Here\n",
        "print(a[a>2])"
      ],
      "execution_count": null,
      "outputs": [
        {
          "output_type": "stream",
          "text": [
            "[3 4 5 6]\n",
            "[3 4 5 6]\n"
          ],
          "name": "stdout"
        }
      ]
    },
    {
      "cell_type": "markdown",
      "metadata": {
        "id": "8vzGbDgzNqb0"
      },
      "source": [
        "For brevity we have left out a lot of details about numpy array indexing; if you want to know more you should read the documentation."
      ]
    },
    {
      "cell_type": "markdown",
      "metadata": {
        "id": "Ta7znrNCNr7g"
      },
      "source": [
        "#QUIZ!!"
      ]
    },
    {
      "cell_type": "markdown",
      "metadata": {
        "id": "16VxLPzTOAjP"
      },
      "source": [
        "##Array Math\n",
        "###Recap"
      ]
    },
    {
      "cell_type": "markdown",
      "metadata": {
        "id": "-glgP93bOXCb"
      },
      "source": [
        "Basic mathematical functions operate elementwise on arrays, and are available both as operator overloads and as functions in the numpy module:"
      ]
    },
    {
      "cell_type": "code",
      "metadata": {
        "id": "aYiFJhQhNrAX",
        "colab": {
          "base_uri": "https://localhost:8080/"
        },
        "outputId": "6b49b9db-75ee-4291-a8ed-de1880f424fe"
      },
      "source": [
        "x = np.array([[1,2],[3,4]], dtype=np.float64)\n",
        "y = np.array([[5,6],[7,8]], dtype=np.float64)\n",
        "\n",
        "#x is:            y is:\n",
        "# [[1. 2.]        [[5. 6.]\n",
        "# [3. 4.]]        [7. 8.]]\n",
        "\n",
        "# Elementwise sum; both produce the array\n",
        "print(x + y)\n",
        "print(np.add(x, y))"
      ],
      "execution_count": null,
      "outputs": [
        {
          "output_type": "stream",
          "text": [
            "[[ 6.  8.]\n",
            " [10. 12.]]\n",
            "[[ 6.  8.]\n",
            " [10. 12.]]\n"
          ],
          "name": "stdout"
        }
      ]
    },
    {
      "cell_type": "code",
      "metadata": {
        "id": "QHqnUZWoOao_",
        "colab": {
          "base_uri": "https://localhost:8080/"
        },
        "outputId": "f1ff02c3-0485-4b97-da63-3e3be45d4677"
      },
      "source": [
        "#x is:            y is:\n",
        "# [[1. 2.]        [[5. 6.]\n",
        "# [3. 4.]]        [7. 8.]]\n",
        "\n",
        "# Elementwise difference; both produce the array\n",
        "print(x - y)\n",
        "print(np.subtract(x, y))"
      ],
      "execution_count": null,
      "outputs": [
        {
          "output_type": "stream",
          "text": [
            "[[-4. -4.]\n",
            " [-4. -4.]]\n",
            "[[-4. -4.]\n",
            " [-4. -4.]]\n"
          ],
          "name": "stdout"
        }
      ]
    },
    {
      "cell_type": "code",
      "metadata": {
        "id": "bRk7rtgTOelO",
        "colab": {
          "base_uri": "https://localhost:8080/"
        },
        "outputId": "e7fb0696-932f-49a5-b8d1-7db0e97ad634"
      },
      "source": [
        "#x is:            y is:\n",
        "# [[1. 2.]        [[5. 6.]\n",
        "# [3. 4.]]        [7. 8.]]\n",
        "\n",
        "# Elementwise product; both produce the array\n",
        "print(x * y)\n",
        "print(np.multiply(x, y))"
      ],
      "execution_count": null,
      "outputs": [
        {
          "output_type": "stream",
          "text": [
            "[[ 5. 12.]\n",
            " [21. 32.]]\n",
            "[[ 5. 12.]\n",
            " [21. 32.]]\n"
          ],
          "name": "stdout"
        }
      ]
    },
    {
      "cell_type": "code",
      "metadata": {
        "id": "7x1GAzDcOfVq",
        "colab": {
          "base_uri": "https://localhost:8080/"
        },
        "outputId": "17f4a401-90f8-4d85-e450-cb9f14c76b86"
      },
      "source": [
        "#x is:            y is:\n",
        "# [[1. 2.]        [[5. 6.]\n",
        "# [3. 4.]]        [7. 8.]]\n",
        "\n",
        "# Elementwise division; both produce the array\n",
        "# [[ 0.2         0.33333333]\n",
        "#  [ 0.42857143  0.5       ]]\n",
        "print(x / y)\n",
        "print(np.divide(x, y))"
      ],
      "execution_count": null,
      "outputs": [
        {
          "output_type": "stream",
          "text": [
            "[[0.2        0.33333333]\n",
            " [0.42857143 0.5       ]]\n",
            "[[0.2        0.33333333]\n",
            " [0.42857143 0.5       ]]\n"
          ],
          "name": "stdout"
        }
      ]
    },
    {
      "cell_type": "markdown",
      "metadata": {
        "id": "wBTUWwwuOOWp"
      },
      "source": [
        "##Some Additional Details about Array Math"
      ]
    },
    {
      "cell_type": "markdown",
      "metadata": {
        "id": "0hDMpAwKOiyP"
      },
      "source": [
        "Note that unlike MATLAB, * is elementwise multiplication, **not matrix multiplication**. We instead use the dot function to compute inner products of vectors, to multiply a vector by a matrix, and to multiply matrices. dot is available both as a function in the numpy module and as an instance method of array objects:"
      ]
    },
    {
      "cell_type": "code",
      "metadata": {
        "id": "u_8GTb2uOlCS",
        "colab": {
          "base_uri": "https://localhost:8080/"
        },
        "outputId": "2da7d40e-b87f-4af8-fc6c-c52248a5a870"
      },
      "source": [
        "x = np.array([[1,2],[3,4]])\n",
        "y = np.array([[5,6],[7,8]])\n",
        "\n",
        "v = np.array([9,10])\n",
        "w = np.array([11, 12])\n",
        "\n",
        "# Inner product of vectors; both produce 219\n",
        "print(v.dot(w))\n",
        "print(np.dot(v, w))"
      ],
      "execution_count": null,
      "outputs": [
        {
          "output_type": "stream",
          "text": [
            "219\n",
            "219\n"
          ],
          "name": "stdout"
        }
      ]
    },
    {
      "cell_type": "markdown",
      "metadata": {
        "id": "SLmQlfKfO51Z"
      },
      "source": [
        "You can also use the @ operator which is equivalent to numpy's dot operator."
      ]
    },
    {
      "cell_type": "code",
      "metadata": {
        "id": "9QZpLTcSO14j",
        "colab": {
          "base_uri": "https://localhost:8080/"
        },
        "outputId": "675f3b13-caaf-4915-db7f-22fc5e7579af"
      },
      "source": [
        "print(v @ w)"
      ],
      "execution_count": null,
      "outputs": [
        {
          "output_type": "stream",
          "text": [
            "219\n"
          ],
          "name": "stdout"
        }
      ]
    },
    {
      "cell_type": "code",
      "metadata": {
        "id": "PFBFp381O9xy",
        "colab": {
          "base_uri": "https://localhost:8080/"
        },
        "outputId": "62640f54-1520-41ac-c0b7-0e85d6609b51"
      },
      "source": [
        "# x is:        v is:\n",
        "#  [[1 2]      [ 9 10]\n",
        "#  [3 4]]      \n",
        "\n",
        "#v is actually a vetor\n",
        "print(v.shape)\n",
        "\n",
        "#you can visualize v like this\n",
        "# [9\n",
        "#  10]\n",
        "\n",
        "#You may wonder why it's like this?\n",
        "#Ans: NumPy has a concept of broadcasting and for that\n",
        "#Details: https://numpy.org/doc/stable/user/basics.broadcasting.html\n",
        "\n",
        "# Matrix / vector product; both produce the rank 1 array [29 67]??????\n",
        "#Your Code Here\n",
        "print(x.dot(v))\n",
        "print(np.dot(x,v))\n",
        "print(x@v)"
      ],
      "execution_count": null,
      "outputs": [
        {
          "output_type": "stream",
          "text": [
            "(2,)\n",
            "[29 67]\n",
            "[29 67]\n",
            "[29 67]\n"
          ],
          "name": "stdout"
        }
      ]
    },
    {
      "cell_type": "code",
      "metadata": {
        "id": "9bDducocPse1",
        "colab": {
          "base_uri": "https://localhost:8080/"
        },
        "outputId": "56bb95b5-06c7-4552-e56a-5cde85bf15c1"
      },
      "source": [
        "# x is:\n",
        "#  [[1 2]\n",
        "#  [3 4]]\n",
        "\n",
        "# y is:\n",
        "# [[5 6]\n",
        "#  [7 8]]\n",
        "\n",
        "# Matrix / matrix product; both produce the rank 2 array\n",
        "# [[19 22]\n",
        "#  [43 50]]\n",
        "#Your Code Here\n",
        "print(x@y)"
      ],
      "execution_count": null,
      "outputs": [
        {
          "output_type": "stream",
          "text": [
            "[[19 22]\n",
            " [43 50]]\n"
          ],
          "name": "stdout"
        }
      ]
    },
    {
      "cell_type": "markdown",
      "metadata": {
        "id": "HllUZ8eTK7eV"
      },
      "source": [
        "In Summary:\n",
        "\n",
        "Vector*Vector ==> Scalar Product\n",
        "\n",
        "Vectr*Matrix ==> Matrxix\n",
        "\n",
        "Matrix*Matrix ==> Matrix"
      ]
    },
    {
      "cell_type": "markdown",
      "metadata": {
        "id": "mhvUSYZJP-za"
      },
      "source": [
        "Numpy provides many useful functions for performing computations on arrays; one of the most useful is sum:"
      ]
    },
    {
      "cell_type": "code",
      "metadata": {
        "id": "qGKWr5GDP_UP",
        "colab": {
          "base_uri": "https://localhost:8080/"
        },
        "outputId": "55a7b733-34a9-47b2-fa05-44c8f499e873"
      },
      "source": [
        "x = np.array([[1,2],[3,4]])\n",
        "\n",
        "# [[1 2]\n",
        "#  [3 4]]\n",
        "\n",
        "#Your Code Here\n",
        "# Compute sum of all elements; prints \"10\"\n",
        "print(np.sum(x))\n",
        "\n",
        "# Compute sum of each column; prints \"[4 6]\"\n",
        "print(np.sum(x,axis=0))\n",
        "\n",
        "# Compute sum of each row; prints \"[3 7]\"\n",
        "print(np.sum(x,axis=1))\n"
      ],
      "execution_count": null,
      "outputs": [
        {
          "output_type": "stream",
          "text": [
            "10\n",
            "[4 6]\n",
            "[3 7]\n"
          ],
          "name": "stdout"
        }
      ]
    },
    {
      "cell_type": "markdown",
      "metadata": {
        "id": "3asJycAyQssW"
      },
      "source": [
        "You can find the full list of mathematical functions provided by numpy in the [documentation](http://docs.scipy.org/doc/numpy/reference/routines.math.html).\n",
        "\n",
        "Apart from computing mathematical functions using arrays, we frequently need to reshape or otherwise manipulate data in arrays. The simplest example of this type of operation is transposing a matrix; to transpose a matrix, simply use the T attribute of an array object:"
      ]
    },
    {
      "cell_type": "code",
      "metadata": {
        "id": "CkNPX8MgQtMX",
        "colab": {
          "base_uri": "https://localhost:8080/"
        },
        "outputId": "b17e8180-74b4-4144-dee3-86ad06c715bf"
      },
      "source": [
        "#Your Code Here\n",
        "print(x)\n",
        "print(x.T)\n"
      ],
      "execution_count": null,
      "outputs": [
        {
          "output_type": "stream",
          "text": [
            "[[1 2]\n",
            " [3 4]]\n",
            "[[1 3]\n",
            " [2 4]]\n"
          ],
          "name": "stdout"
        }
      ]
    },
    {
      "cell_type": "markdown",
      "metadata": {
        "id": "HkkQKVMTRas2"
      },
      "source": [
        "This brief overview has touched on many of the important things that you need to know about numpy, but it is far from complete. Check out the [numpy reference](http://docs.scipy.org/doc/numpy/reference/) to find out much more about numpy."
      ]
    },
    {
      "cell_type": "markdown",
      "metadata": {
        "id": "ZYa4PbKQQARp"
      },
      "source": [
        "##QUIZ!!"
      ]
    }
  ]
}